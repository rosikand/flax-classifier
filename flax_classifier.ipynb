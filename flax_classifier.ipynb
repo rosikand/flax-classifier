{
 "cells": [
  {
   "cell_type": "markdown",
   "id": "7899e713",
   "metadata": {},
   "source": [
    "# Jax + Flax Binary Image Classifier "
   ]
  },
  {
   "cell_type": "markdown",
   "id": "b68be574",
   "metadata": {},
   "source": [
    "Minimum viable example of *training* (testing coming soon) a simple binary image classifier using jax + flax. "
   ]
  },
  {
   "cell_type": "markdown",
   "id": "672ecf67",
   "metadata": {},
   "source": [
    "## 1. Import data "
   ]
  },
  {
   "cell_type": "code",
   "execution_count": 6,
   "id": "9501f2e6",
   "metadata": {},
   "outputs": [],
   "source": [
    "import pickle\n",
    "in_file = open('norm_fmnist.pkl', 'rb')\n",
    "d_set = pickle.load(in_file)"
   ]
  },
  {
   "cell_type": "markdown",
   "id": "338407fc",
   "metadata": {},
   "source": [
    "Data is a list of the form `[(x,y), (x,y),..., (x,y)]` where each `x` is normalized jnp float array and each `y` is a single float representing the label. "
   ]
  },
  {
   "cell_type": "markdown",
   "id": "c6496ad2",
   "metadata": {},
   "source": [
    "## 1. Build and initialize the model "
   ]
  },
  {
   "cell_type": "code",
   "execution_count": 10,
   "id": "3c35ce31",
   "metadata": {},
   "outputs": [],
   "source": [
    "import jax\n",
    "import jax.numpy as jnp                # JAX NumPy\n",
    "from flax import linen as nn           # The Linen API\n",
    "import numpy as np                     # Ordinary NumPy\n",
    "import optax                           # Optimizers"
   ]
  },
  {
   "cell_type": "code",
   "execution_count": 11,
   "id": "c699c23b",
   "metadata": {},
   "outputs": [],
   "source": [
    "class MLP(nn.Module):\n",
    "  @nn.compact\n",
    "  def __call__(self, x):\n",
    "    x = jnp.ravel(x)  # flatten \n",
    "    x = nn.Dense(features=784)(x)\n",
    "    x = nn.Dense(features=2)(x)  # 2 because we are using softmax cross entropy \n",
    "    return nn.softmax(x) "
   ]
  },
  {
   "cell_type": "code",
   "execution_count": 13,
   "id": "8ed851f0",
   "metadata": {},
   "outputs": [],
   "source": [
    "mlp_model = MLP()\n",
    "sample_batch = jnp.ones((1, 28,28))\n",
    "parameters = mlp_model.init(jax.random.PRNGKey(1), sample_batch)  # model param that we'll train "
   ]
  },
  {
   "cell_type": "markdown",
   "id": "a4dd7dfd",
   "metadata": {},
   "source": [
    "In jax + flax, the model is separate from the params. The params are what we change during training. "
   ]
  },
  {
   "attachments": {},
   "cell_type": "markdown",
   "id": "9df9dc29",
   "metadata": {},
   "source": [
    "## 2. Set up training \n",
    "\n",
    "- Loss\n",
    "- Accuracy metric \n",
    "- Optimizer \n"
   ]
  },
  {
   "cell_type": "code",
   "execution_count": 15,
   "id": "819422d4",
   "metadata": {},
   "outputs": [],
   "source": [
    "def binary_loss(logits, labels):\n",
    "    \"\"\"\n",
    "    input form: \n",
    "        - logits: shape is (2,) e.g., DeviceArray([0.36671272, 0.63328725], dtype=float32) \n",
    "        - labels: int/float e.g., 1.0 \n",
    "    \"\"\"\n",
    "    # binary cross entropy loss \n",
    "    # both logits and labels should be shape [batch, num_classes] \n",
    "    # so we will one hot encode the label given! \n",
    "    one_hot_labels = jax.nn.one_hot([labels], num_classes=2)\n",
    "    return optax.softmax_cross_entropy(logits=logits.reshape(1,2), labels=one_hot_labels)"
   ]
  },
  {
   "cell_type": "code",
   "execution_count": 17,
   "id": "5e07919b",
   "metadata": {},
   "outputs": [],
   "source": [
    "def compute_accuracy(logits, labels):\n",
    "    \"\"\"\n",
    "    input form: \n",
    "        - logits: shape is (2,) e.g., DeviceArray([0.36671272, 0.63328725], dtype=float32) \n",
    "        - labels: int/float e.g., 1.0 \n",
    "    \"\"\"\n",
    "    if jnp.argmax(logits) == labels:\n",
    "        return 1\n",
    "    else:\n",
    "        return 0 "
   ]
  },
  {
   "cell_type": "markdown",
   "id": "9fa087eb",
   "metadata": {},
   "source": [
    "Set up optimizer "
   ]
  },
  {
   "cell_type": "code",
   "execution_count": 18,
   "id": "565926d4",
   "metadata": {},
   "outputs": [],
   "source": [
    "# Same as version above but with model.apply().\n",
    "@jax.jit  # wrap in jit for speed-up! \n",
    "def forward_loss(params, x, y):\n",
    "    pred_logits = mlp_model.apply(params, x)\n",
    "    return binary_loss(pred_logits, y).mean()  # use mean to extract value "
   ]
  },
  {
   "cell_type": "code",
   "execution_count": 20,
   "id": "16923339",
   "metadata": {},
   "outputs": [],
   "source": [
    "LR = 0.001\n",
    "tx = optax.sgd(learning_rate=LR)  # tx is the optimizer \n",
    "opt_state = tx.init(parameters)  # tx needs a state that we init here \n",
    "# wrap loss func in function that will simultaneously calculate value and gradient\n",
    "loss_grad_fn = jax.value_and_grad(forward_loss)  "
   ]
  },
  {
   "cell_type": "markdown",
   "id": "83b880cc",
   "metadata": {},
   "source": [
    "## 3. Training loop \n",
    "\n",
    "Update model params... "
   ]
  },
  {
   "cell_type": "code",
   "execution_count": 21,
   "id": "85716be6",
   "metadata": {},
   "outputs": [
    {
     "name": "stdout",
     "output_type": "stream",
     "text": [
      "Loss step 1:  0.5804289\n",
      "Accuracy step 1:  0.8793103448275862\n",
      "Loss step 2:  0.4941133\n",
      "Accuracy step 2:  0.9827586206896551\n",
      "Loss step 3:  0.4497453\n",
      "Accuracy step 3:  1.0\n",
      "Loss step 4:  0.4228556\n",
      "Accuracy step 4:  1.0\n",
      "Loss step 5:  0.4050223\n",
      "Accuracy step 5:  1.0\n",
      "Loss step 6:  0.39231786\n",
      "Accuracy step 6:  1.0\n",
      "Loss step 7:  0.38278383\n",
      "Accuracy step 7:  1.0\n",
      "Loss step 8:  0.37534776\n",
      "Accuracy step 8:  1.0\n",
      "Loss step 9:  0.36937493\n",
      "Accuracy step 9:  1.0\n",
      "Loss step 10:  0.36446473\n",
      "Accuracy step 10:  1.0\n",
      "Loss step 11:  0.36035222\n",
      "Accuracy step 11:  1.0\n",
      "Loss step 12:  0.35685465\n",
      "Accuracy step 12:  1.0\n",
      "Loss step 13:  0.35384172\n",
      "Accuracy step 13:  1.0\n",
      "Loss step 14:  0.35121778\n",
      "Accuracy step 14:  1.0\n",
      "Loss step 15:  0.3489112\n",
      "Accuracy step 15:  1.0\n",
      "Loss step 16:  0.346867\n",
      "Accuracy step 16:  1.0\n",
      "Loss step 17:  0.34504232\n",
      "Accuracy step 17:  1.0\n",
      "Loss step 18:  0.3434034\n",
      "Accuracy step 18:  1.0\n",
      "Loss step 19:  0.34192285\n",
      "Accuracy step 19:  1.0\n",
      "Loss step 20:  0.34057885\n",
      "Accuracy step 20:  1.0\n"
     ]
    }
   ],
   "source": [
    "NUM_EPOCHS = 20\n",
    "losses = []\n",
    "accuracies = []\n",
    "for i in range(NUM_EPOCHS):\n",
    "    batch_loss = 0\n",
    "    batch_num_correct = 0  # for accuracy calculation  \n",
    "    \n",
    "    # loop over entire dataset \n",
    "    for sample in d_set:\n",
    "        x = sample[0]\n",
    "        y = sample[1]\n",
    "        \n",
    "        # compute accuracy \n",
    "        sample_acc = compute_accuracy(mlp_model.apply(parameters, x), y) \n",
    "        if sample_acc > 0:\n",
    "            batch_num_correct += 1\n",
    "        \n",
    "        # update params  (note: eventually wrap this in function so that you can jit it) \n",
    "        loss_val, grads = loss_grad_fn(parameters, x, y)\n",
    "        batch_loss += loss_val  # record sample loss \n",
    "        updates, opt_state = tx.update(grads, opt_state)\n",
    "        parameters =  optax.apply_updates(parameters, updates)  # updating of params\n",
    "        \n",
    "    \n",
    "    # log epoch metrics \n",
    "    epoch_loss = batch_loss/len(d_set)\n",
    "    epoch_acc = batch_num_correct/len(d_set)\n",
    "    losses.append(epoch_loss)\n",
    "    accuracies.append(epoch_acc) \n",
    "    \n",
    "    # prints \n",
    "    print('Loss step {}: '.format(i + 1), epoch_loss)\n",
    "    print('Accuracy step {}: '.format(i + 1), epoch_acc)"
   ]
  },
  {
   "cell_type": "code",
   "execution_count": 28,
   "id": "2822ce83",
   "metadata": {},
   "outputs": [
    {
     "data": {
      "image/png": "[encoded data removed]",
      "text/plain": [
       "<Figure size 432x288 with 1 Axes>"
      ]
     },
     "metadata": {
      "needs_background": "light"
     },
     "output_type": "display_data"
    }
   ],
   "source": [
    "import matplotlib.pyplot as plt\n",
    "plt.plot(losses)\n",
    "plt.title(\"Training loss graph\")\n",
    "plt.show()"
   ]
  },
  {
   "cell_type": "code",
   "execution_count": 29,
   "id": "208eded7",
   "metadata": {},
   "outputs": [
    {
     "data": {
      "image/png": "[encoded data removed]",
      "text/plain": [
       "<Figure size 432x288 with 1 Axes>"
      ]
     },
     "metadata": {
      "needs_background": "light"
     },
     "output_type": "display_data"
    }
   ],
   "source": [
    "plt.plot(accuracies)\n",
    "plt.title(\"Training accuracy graph\")\n",
    "plt.show()"
   ]
  },
  {
   "cell_type": "markdown",
   "id": "91b625e9",
   "metadata": {},
   "source": [
    "Evaluation on test set coming soon... "
   ]
  }
 ],
 "metadata": {
  "kernelspec": {
   "display_name": "Python 3 (ipykernel)",
   "language": "python",
   "name": "python3"
  },
  "language_info": {
   "codemirror_mode": {
    "name": "ipython",
    "version": 3
   },
   "file_extension": ".py",
   "mimetype": "text/x-python",
   "name": "python",
   "nbconvert_exporter": "python",
   "pygments_lexer": "ipython3",
   "version": "3.9.12"
  }
 },
 "nbformat": 4,
 "nbformat_minor": 5
}
